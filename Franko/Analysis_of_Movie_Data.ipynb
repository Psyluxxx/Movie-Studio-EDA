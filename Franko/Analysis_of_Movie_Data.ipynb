{
 "cells": [
  {
   "cell_type": "markdown",
   "id": "549f2b41",
   "metadata": {},
   "source": [
    "# IMDB Movie Data EDA"
   ]
  },
  {
   "cell_type": "markdown",
   "id": "78d68ba2",
   "metadata": {},
   "source": [
    "**Authors:** Franko Ndou, Anthony Brocco"
   ]
  },
  {
   "cell_type": "markdown",
   "id": "e463a560",
   "metadata": {},
   "source": [
    "# Overview"
   ]
  },
  {
   "cell_type": "markdown",
   "id": "317243b7",
   "metadata": {},
   "source": [
    "IMDB has a SQL database containing vast movie data, this as well as two other CSV files that we have obtained will help us perform an EDA to help solve complex business problems. Our goal is to find the best performing films at the box office currently, and translate our findings into understandable data visualizaitons and recomendations. "
   ]
  },
  {
   "cell_type": "markdown",
   "id": "d1bfd2b7",
   "metadata": {},
   "source": [
    "# Business Problem"
   ]
  },
  {
   "cell_type": "markdown",
   "id": "2a53cd33",
   "metadata": {},
   "source": [
    "Universal Pictures is looking to create the next big film, they have a massive budget to find the best directors, actors and business practices that will lead to not only the greatest film of our generation but the largest ROI possible. Our job is to perform an exploratory data analysis on large data sets to help Universal come to a conclusion on what is the best possible way to achieve this goal. "
   ]
  },
  {
   "cell_type": "markdown",
   "id": "58ccaae1",
   "metadata": {},
   "source": [
    "# Key Objectives"
   ]
  },
  {
   "cell_type": "markdown",
   "id": "5ca11a14",
   "metadata": {},
   "source": [
    "- We will conduct an analysis that will result in three distinct and practical business recommendations. By addressing the challenges of handling missing data, aggregating information, and effectively visualizing the data, we aim to empower our organization to make informed decisions based on data. We will connect these findings to the realm of business intelligence, leveraging them to offer insightful suggestions on how our company should proceed with the exciting new aviation venture.\n",
    "\n",
    "- We understand that effective communication is of paramount importance. Our capacity to deliver value to the organization, or to secure a position within it, hinges on our proficiency in articulating our accomplishments and their significance. Our task involves crafting a narrative that our stakeholders, specifically the head of the aviation division, can easily comprehend. We will achieve this by guiding them through each step of our process, emphasizing key insights while condensing less critical details. This approach ensures that our message is clear, engaging, and allows our audience to seamlessly follow our storyline.\n",
    "\n",
    "- We will utilize a variety of visualizations to enhance our communication. Visual representations play a crucial role in both exploring the data and making our findings easily understandable for individuals who may not have technical expertise. Within our presentation, we will shine a spotlight on visuals that directly align with the recommendations we're making. It's advisable to opt for uncomplicated visuals, such as bar charts and line graphs, as they tend to be the most effective. Additionally, we will pay careful attention to formatting, including elements like labels and titles, to ensure that our visuals are clear and impactful."
   ]
  },
  {
   "cell_type": "code",
   "execution_count": null,
   "id": "94d9eecb",
   "metadata": {},
   "outputs": [],
   "source": []
  }
 ],
 "metadata": {
  "kernelspec": {
   "display_name": "Python (learn-env)",
   "language": "python",
   "name": "learn-env"
  },
  "language_info": {
   "codemirror_mode": {
    "name": "ipython",
    "version": 3
   },
   "file_extension": ".py",
   "mimetype": "text/x-python",
   "name": "python",
   "nbconvert_exporter": "python",
   "pygments_lexer": "ipython3",
   "version": "3.9.16"
  }
 },
 "nbformat": 4,
 "nbformat_minor": 5
}
